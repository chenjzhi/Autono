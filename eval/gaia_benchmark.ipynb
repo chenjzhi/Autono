{
 "cells": [
  {
   "cell_type": "code",
   "execution_count": 1,
   "id": "initial_id",
   "metadata": {
    "collapsed": true,
    "ExecuteTime": {
     "end_time": "2025-03-07T09:03:40.800012Z",
     "start_time": "2025-03-07T09:03:36.897414Z"
    }
   },
   "outputs": [
    {
     "name": "stdout",
     "output_type": "stream",
     "text": [
      "Dataset({\n",
      "    features: ['task_id', 'Question', 'Level', 'Final answer', 'file_name', 'file_path', 'Annotator Metadata'],\n",
      "    num_rows: 301\n",
      "})\n"
     ]
    }
   ],
   "source": [
    "import os\n",
    "\n",
    "import datasets\n",
    "from dotenv import load_dotenv\n",
    "from pprint import pp\n",
    "\n",
    "load_dotenv()\n",
    "\n",
    "gaia_benchmark = datasets.load_dataset(\n",
    "    \"gaia-benchmark/GAIA\",\n",
    "    '2023_all',\n",
    "    cache_dir=\"../data/gaia-benchmark\",\n",
    "    token=os.getenv(\"HF_API_TOKEN\"),\n",
    "    trust_remote_code=True\n",
    ")['test']\n",
    "\n",
    "print(gaia_benchmark)"
   ]
  },
  {
   "cell_type": "code",
   "outputs": [],
   "source": [
    "for example in gaia_benchmark:\n",
    "    pp(example)\n",
    "    print(example.keys())\n",
    "    exit()\n",
    "    "
   ],
   "metadata": {
    "collapsed": false
   },
   "id": "32969f089643cc06"
  }
 ],
 "metadata": {
  "kernelspec": {
   "display_name": "Python 3",
   "language": "python",
   "name": "python3"
  },
  "language_info": {
   "codemirror_mode": {
    "name": "ipython",
    "version": 2
   },
   "file_extension": ".py",
   "mimetype": "text/x-python",
   "name": "python",
   "nbconvert_exporter": "python",
   "pygments_lexer": "ipython2",
   "version": "2.7.6"
  }
 },
 "nbformat": 4,
 "nbformat_minor": 5
}
